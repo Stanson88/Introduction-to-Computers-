{
  "nbformat": 4,
  "nbformat_minor": 0,
  "metadata": {
    "colab": {
      "provenance": [],
      "authorship_tag": "ABX9TyPp5u3T6UZYjq5DGm29E5Bp",
      "include_colab_link": true
    },
    "kernelspec": {
      "name": "python3",
      "display_name": "Python 3"
    },
    "language_info": {
      "name": "python"
    }
  },
  "cells": [
    {
      "cell_type": "markdown",
      "metadata": {
        "id": "view-in-github",
        "colab_type": "text"
      },
      "source": [
        "<a href=\"https://colab.research.google.com/github/Stanson88/Introduction-to-Computers-/blob/main/0515.ipynb\" target=\"_parent\"><img src=\"https://colab.research.google.com/assets/colab-badge.svg\" alt=\"Open In Colab\"/></a>"
      ]
    },
    {
      "cell_type": "code",
      "execution_count": 1,
      "metadata": {
        "colab": {
          "base_uri": "https://localhost:8080/"
        },
        "id": "YMkWq57GBjPj",
        "outputId": "17108127-7016-4b8e-d186-165e137f6a49"
      },
      "outputs": [
        {
          "output_type": "stream",
          "name": "stdout",
          "text": [
            "0515\n"
          ]
        }
      ],
      "source": [
        "print('0515')"
      ]
    },
    {
      "cell_type": "code",
      "source": [
        "score = int(input('score : '))\n",
        "\n",
        "if score >=90:\n",
        "    print('Grade is : A')\n",
        "elif score >= 80:\n",
        "    print('Grade is : B')\n",
        "elif score >=70:\n",
        "    print('Grade is : C')\n",
        "elif score >=60:\n",
        "    print('Grade is : D')\n",
        "else:\n",
        "    print('Grade is : E')"
      ],
      "metadata": {
        "colab": {
          "base_uri": "https://localhost:8080/"
        },
        "id": "5JcC3xnFB2AH",
        "outputId": "0485f8a4-ba8e-407e-fb22-17bb4ee12ba0"
      },
      "execution_count": 5,
      "outputs": [
        {
          "output_type": "stream",
          "name": "stdout",
          "text": [
            "score : 99\n",
            "Grade is : A\n"
          ]
        }
      ]
    },
    {
      "cell_type": "code",
      "source": [
        "體溫 = int(input('情輸入您的體溫'))\n",
        "\n",
        "if 體溫 >= 37.5:\n",
        "    print('體溫過高!')\n",
        "elif 體溫 >= 37 and 體溫 < 37.4:\n",
        "    print('體溫略高')\n",
        "elif 體溫 >= 34 and 體溫 < 36.4:\n",
        "    print('體溫正常')\n",
        "else:\n",
        "    print('體溫異常,請重新量測')"
      ],
      "metadata": {
        "colab": {
          "base_uri": "https://localhost:8080/"
        },
        "id": "_jf-m-dvCkfk",
        "outputId": "ef9cc825-d126-4137-e97a-d9de25c18b96"
      },
      "execution_count": 7,
      "outputs": [
        {
          "output_type": "stream",
          "name": "stdout",
          "text": [
            "情輸入您的體溫33\n",
            "體溫異常,請重新量測\n"
          ]
        }
      ]
    },
    {
      "cell_type": "code",
      "source": [
        "month = int(input('請輸入月份'))\n",
        "if month < 4:\n",
        "    print((month),'月是春天')\n",
        "elif month >= 4 and month < 7:\n",
        "    print((month),'月是夏天')\n",
        "elif month >=7 and month < 10:\n",
        "    print((month),'月是秋天')\n",
        "elif month >=10 and month < 13:\n",
        "    print((month),'月是冬天')\n",
        "else:\n",
        "    print('月份不在範圍内')"
      ],
      "metadata": {
        "colab": {
          "base_uri": "https://localhost:8080/"
        },
        "id": "HulGmuKfD_rn",
        "outputId": "909d5ef8-f643-468c-9b43-ac7213a56581"
      },
      "execution_count": 14,
      "outputs": [
        {
          "output_type": "stream",
          "name": "stdout",
          "text": [
            "請輸入月份5\n",
            "5 月是夏天\n"
          ]
        }
      ]
    },
    {
      "cell_type": "code",
      "source": [
        "month = int(input('請輸入月份'))\n",
        "if month < 4:\n",
        "    print((month),'月是春天')\n",
        "elif month >= 4 and month < 7:\n",
        "    print((month),'月是夏天')\n",
        "elif month >=7 and month < 10:\n",
        "    print((month),'月是秋天')\n",
        "elif month >=10 and month < 13:\n",
        "    print((month),'月是冬天')\n",
        "else:\n",
        "    print('月份不在範圍内')"
      ],
      "metadata": {
        "colab": {
          "base_uri": "https://localhost:8080/"
        },
        "id": "lgnk06coFRF7",
        "outputId": "e507a9d3-5f1c-48ca-a89c-81eaf076b21d"
      },
      "execution_count": 15,
      "outputs": [
        {
          "output_type": "stream",
          "name": "stdout",
          "text": [
            "請輸入月份55\n",
            "月份不在範圍内\n"
          ]
        }
      ]
    },
    {
      "cell_type": "code",
      "source": [
        "income = int(input('請輸入月份'))\n",
        "if income >= 2000000:\n",
        "    print('付稅金額:',(income*0.3))\n",
        "elif income >= 1000000:\n",
        "    print('付稅金額:',(income*0.21))\n",
        "elif income >=600000:\n",
        "    print('付稅金額:',(income*0.13))\n",
        "elif income >=300000:\n",
        "    print('付稅金額:',(income*0.06))\n",
        "else:\n",
        "    print('付稅金額:',(0))"
      ],
      "metadata": {
        "colab": {
          "base_uri": "https://localhost:8080/"
        },
        "id": "kJe8lYM2FUy-",
        "outputId": "55cd0eaa-41df-418e-a410-839f3e027523"
      },
      "execution_count": 20,
      "outputs": [
        {
          "output_type": "stream",
          "name": "stdout",
          "text": [
            "請輸入月份2000000\n",
            "付稅金額: 600000.0\n"
          ]
        }
      ]
    }
  ]
}