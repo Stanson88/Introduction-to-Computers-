{
  "nbformat": 4,
  "nbformat_minor": 0,
  "metadata": {
    "colab": {
      "provenance": [],
      "authorship_tag": "ABX9TyOhzgGqjfBnOn4M3tWfL3Wl",
      "include_colab_link": true
    },
    "kernelspec": {
      "name": "python3",
      "display_name": "Python 3"
    },
    "language_info": {
      "name": "python"
    }
  },
  "cells": [
    {
      "cell_type": "markdown",
      "metadata": {
        "id": "view-in-github",
        "colab_type": "text"
      },
      "source": [
        "<a href=\"https://colab.research.google.com/github/Stanson88/Introduction-to-Computers-/blob/main/0310.ipynb\" target=\"_parent\"><img src=\"https://colab.research.google.com/assets/colab-badge.svg\" alt=\"Open In Colab\"/></a>"
      ]
    },
    {
      "cell_type": "code",
      "execution_count": 2,
      "metadata": {
        "colab": {
          "base_uri": "https://localhost:8080/"
        },
        "id": "z-kG12MYmciJ",
        "outputId": "8449fd5d-f3ff-4375-f397-a2866442d7d0"
      },
      "outputs": [
        {
          "output_type": "stream",
          "name": "stdout",
          "text": [
            "HELLO, WORLD!\n"
          ]
        }
      ],
      "source": [
        "s = \"hello, world!\"\n",
        "print(s.upper())"
      ]
    },
    {
      "cell_type": "code",
      "source": [
        "s ='the new skill i am learning this year : Phython'\n",
        "print(s.count('a'))"
      ],
      "metadata": {
        "colab": {
          "base_uri": "https://localhost:8080/"
        },
        "id": "O3DcEO8Km5Fe",
        "outputId": "32cf63a9-e5a4-4b55-8b1a-40a7c946548c"
      },
      "execution_count": 3,
      "outputs": [
        {
          "output_type": "stream",
          "name": "stdout",
          "text": [
            "3\n"
          ]
        }
      ]
    },
    {
      "cell_type": "code",
      "source": [
        "print(\"\\n\".join([''.join([('ILOVEYOUWP'[(x-y)%10]\n",
        "if((x*0.05)**2+(y*0.1)**2-1)**3-(x*0.05)**2*(y*0.1)**3<=0 else\" \")\n",
        "for x in range (-60,60)])for y in range(30,-30,-1)]))"
      ],
      "metadata": {
        "colab": {
          "base_uri": "https://localhost:8080/"
        },
        "id": "OVzdpmP2nHSc",
        "outputId": "3ef8e07c-9557-41a1-c9c8-179ccfe854e2"
      },
      "execution_count": 4,
      "outputs": [
        {
          "output_type": "stream",
          "name": "stdout",
          "text": [
            "                                                                                                                        \n",
            "                                                                                                                        \n",
            "                                                                                                                        \n",
            "                                                                                                                        \n",
            "                                                                                                                        \n",
            "                                                                                                                        \n",
            "                                                                                                                        \n",
            "                                                                                                                        \n",
            "                                                                                                                        \n",
            "                                                                                                                        \n",
            "                                                                                                                        \n",
            "                                                                                                                        \n",
            "                                                                                                                        \n",
            "                                                                                                                        \n",
            "                                                                                                                        \n",
            "                                                                                                                        \n",
            "                                                                                                                        \n",
            "                                                                                                                        \n",
            "                                              EYOUWPILO           EYOUWPILO                                             \n",
            "                                          LOVEYOUWPILOVEYOU   LOVEYOUWPILOVEYOU                                         \n",
            "                                        ILOVEYOUWPILOVEYOUWPILOVEYOUWPILOVEYOUWPI                                       \n",
            "                                       ILOVEYOUWPILOVEYOUWPILOVEYOUWPILOVEYOUWPILO                                      \n",
            "                                      ILOVEYOUWPILOVEYOUWPILOVEYOUWPILOVEYOUWPILOVE                                     \n",
            "                                      LOVEYOUWPILOVEYOUWPILOVEYOUWPILOVEYOUWPILOVEY                                     \n",
            "                                      OVEYOUWPILOVEYOUWPILOVEYOUWPILOVEYOUWPILOVEYO                                     \n",
            "                                      VEYOUWPILOVEYOUWPILOVEYOUWPILOVEYOUWPILOVEYOU                                     \n",
            "                                      EYOUWPILOVEYOUWPILOVEYOUWPILOVEYOUWPILOVEYOUW                                     \n",
            "                                      YOUWPILOVEYOUWPILOVEYOUWPILOVEYOUWPILOVEYOUWP                                     \n",
            "                                       UWPILOVEYOUWPILOVEYOUWPILOVEYOUWPILOVEYOUWP                                      \n",
            "                                        PILOVEYOUWPILOVEYOUWPILOVEYOUWPILOVEYOUWP                                       \n",
            "                                        ILOVEYOUWPILOVEYOUWPILOVEYOUWPILOVEYOUWPI                                       \n",
            "                                          VEYOUWPILOVEYOUWPILOVEYOUWPILOVEYOUWP                                         \n",
            "                                           YOUWPILOVEYOUWPILOVEYOUWPILOVEYOUWP                                          \n",
            "                                            UWPILOVEYOUWPILOVEYOUWPILOVEYOUWP                                           \n",
            "                                              ILOVEYOUWPILOVEYOUWPILOVEYOUW                                             \n",
            "                                                VEYOUWPILOVEYOUWPILOVEYOU                                               \n",
            "                                                  OUWPILOVEYOUWPILOVEYO                                                 \n",
            "                                                     ILOVEYOUWPILOVE                                                    \n",
            "                                                        EYOUWPILO                                                       \n",
            "                                                           WPI                                                          \n",
            "                                                            I                                                           \n",
            "                                                                                                                        \n",
            "                                                                                                                        \n",
            "                                                                                                                        \n",
            "                                                                                                                        \n",
            "                                                                                                                        \n",
            "                                                                                                                        \n",
            "                                                                                                                        \n",
            "                                                                                                                        \n",
            "                                                                                                                        \n",
            "                                                                                                                        \n",
            "                                                                                                                        \n",
            "                                                                                                                        \n",
            "                                                                                                                        \n",
            "                                                                                                                        \n",
            "                                                                                                                        \n",
            "                                                                                                                        \n",
            "                                                                                                                        \n",
            "                                                                                                                        \n",
            "                                                                                                                        \n"
          ]
        }
      ]
    }
  ]
}