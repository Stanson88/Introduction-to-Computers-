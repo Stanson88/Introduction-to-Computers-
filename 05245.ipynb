{
  "nbformat": 4,
  "nbformat_minor": 0,
  "metadata": {
    "colab": {
      "provenance": [],
      "authorship_tag": "ABX9TyPrDqRdOoZYuNqArf384Dn0",
      "include_colab_link": true
    },
    "kernelspec": {
      "name": "python3",
      "display_name": "Python 3"
    },
    "language_info": {
      "name": "python"
    }
  },
  "cells": [
    {
      "cell_type": "markdown",
      "metadata": {
        "id": "view-in-github",
        "colab_type": "text"
      },
      "source": [
        "<a href=\"https://colab.research.google.com/github/Stanson88/Introduction-to-Computers-/blob/main/05245.ipynb\" target=\"_parent\"><img src=\"https://colab.research.google.com/assets/colab-badge.svg\" alt=\"Open In Colab\"/></a>"
      ]
    },
    {
      "cell_type": "code",
      "execution_count": 1,
      "metadata": {
        "colab": {
          "base_uri": "https://localhost:8080/"
        },
        "id": "WjfQQob-bJAU",
        "outputId": "4d58d18b-fbba-4cd2-e421-9e31ffac7239"
      },
      "outputs": [
        {
          "output_type": "stream",
          "name": "stdout",
          "text": [
            "[0, 1, 2, 3, 4, 5, 6, 7, 8]\n"
          ]
        }
      ],
      "source": [
        "x=[]\n",
        "for i in range(0,9):\n",
        "  x.append(i)\n",
        "print(x)"
      ]
    },
    {
      "cell_type": "code",
      "source": [
        "x=[]\n",
        "for i in range(1,10):\n",
        "  x.append(i)\n",
        "print(x)"
      ],
      "metadata": {
        "colab": {
          "base_uri": "https://localhost:8080/"
        },
        "id": "cgzzT3XFbXVn",
        "outputId": "b27eb792-58de-4584-d9e1-cd18b1ad3a34"
      },
      "execution_count": 2,
      "outputs": [
        {
          "output_type": "stream",
          "name": "stdout",
          "text": [
            "[1, 2, 3, 4, 5, 6, 7, 8, 9]\n"
          ]
        }
      ]
    },
    {
      "cell_type": "code",
      "source": [
        "x=[]\n",
        "for i in range(1,10,2):\n",
        "  x.append(i)\n",
        "print(x)"
      ],
      "metadata": {
        "colab": {
          "base_uri": "https://localhost:8080/"
        },
        "id": "z7SMYggBbY-k",
        "outputId": "590ca77c-1e5d-4bd7-fdc8-e2732d0c068a"
      },
      "execution_count": 4,
      "outputs": [
        {
          "output_type": "stream",
          "name": "stdout",
          "text": [
            "[1, 3, 5, 7, 9]\n"
          ]
        }
      ]
    },
    {
      "cell_type": "code",
      "source": [
        "x=[]\n",
        "for i in range(10,1,-2):\n",
        "  x.append(i)\n",
        "print(x)\n",
        "     "
      ],
      "metadata": {
        "colab": {
          "base_uri": "https://localhost:8080/"
        },
        "id": "cSjjy6Jbbcmn",
        "outputId": "2c3a7375-34fb-4891-ad0a-229111170f03"
      },
      "execution_count": 3,
      "outputs": [
        {
          "output_type": "stream",
          "name": "stdout",
          "text": [
            "[10, 8, 6, 4, 2]\n"
          ]
        }
      ]
    },
    {
      "cell_type": "code",
      "source": [
        "x=int(input(\"請輸入一個正整數\"))\n",
        "for i in range(0,x+1):\n",
        "  print(i,end=\" \")"
      ],
      "metadata": {
        "colab": {
          "base_uri": "https://localhost:8080/"
        },
        "id": "2xZpX9VybdOR",
        "outputId": "6bb2aebd-bcc6-478f-82eb-fd7f5b41683d"
      },
      "execution_count": 5,
      "outputs": [
        {
          "output_type": "stream",
          "name": "stdout",
          "text": [
            "請輸入一個正整數5\n",
            "0 1 2 3 4 5 "
          ]
        }
      ]
    },
    {
      "cell_type": "code",
      "source": [
        "x=int(input(\"請輸入一個正整數：\"))\n",
        "y=0\n",
        "for i in range (1,x+1):\n",
        "  y+=i\n",
        "print(\"1到\"+str(x)+\"的整數和為：\"+str(y))"
      ],
      "metadata": {
        "colab": {
          "base_uri": "https://localhost:8080/"
        },
        "id": "YlgLfkq3bigY",
        "outputId": "e7887009-c0d6-4cad-e543-97853ec9f330"
      },
      "execution_count": 6,
      "outputs": [
        {
          "output_type": "stream",
          "name": "stdout",
          "text": [
            "請輸入一個正整數：50\n",
            "1到50的整數和為：1275\n"
          ]
        }
      ]
    },
    {
      "cell_type": "code",
      "source": [
        "x=int(input(\"請輸入一個正整數：\"))\n",
        "y=0\n",
        "for i  in range(1,x+1):\n",
        "  y=0\n",
        "  for ii in range (1,i+1):\n",
        "    y+=ii\n",
        "  print(\"1到\"+str(x)+\"的整數和為：\"+str(y))"
      ],
      "metadata": {
        "colab": {
          "base_uri": "https://localhost:8080/"
        },
        "id": "EHMYIMgPbloy",
        "outputId": "85f1fd9f-43fb-4bf9-ae67-989b35e398c5"
      },
      "execution_count": 7,
      "outputs": [
        {
          "output_type": "stream",
          "name": "stdout",
          "text": [
            "請輸入一個正整數：10\n",
            "1到10的整數和為：1\n",
            "1到10的整數和為：3\n",
            "1到10的整數和為：6\n",
            "1到10的整數和為：10\n",
            "1到10的整數和為：15\n",
            "1到10的整數和為：21\n",
            "1到10的整數和為：28\n",
            "1到10的整數和為：36\n",
            "1到10的整數和為：45\n",
            "1到10的整數和為：55\n"
          ]
        }
      ]
    }
  ]
}