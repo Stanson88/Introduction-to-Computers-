{
  "nbformat": 4,
  "nbformat_minor": 0,
  "metadata": {
    "colab": {
      "provenance": [],
      "authorship_tag": "ABX9TyMyYZinCgxBN5QE0pOLEcyV",
      "include_colab_link": true
    },
    "kernelspec": {
      "name": "python3",
      "display_name": "Python 3"
    },
    "language_info": {
      "name": "python"
    }
  },
  "cells": [
    {
      "cell_type": "markdown",
      "metadata": {
        "id": "view-in-github",
        "colab_type": "text"
      },
      "source": [
        "<a href=\"https://colab.research.google.com/github/Stanson88/Introduction-to-Computers-/blob/main/0324.ipynb\" target=\"_parent\"><img src=\"https://colab.research.google.com/assets/colab-badge.svg\" alt=\"Open In Colab\"/></a>"
      ]
    },
    {
      "cell_type": "code",
      "source": [
        "x=None\n",
        "print(x)\n",
        "type(x)"
      ],
      "metadata": {
        "colab": {
          "base_uri": "https://localhost:8080/"
        },
        "id": "4yt9C5Fhv0rU",
        "outputId": "15c350dc-7491-47ae-9c90-db6ddc69aa02"
      },
      "execution_count": 9,
      "outputs": [
        {
          "output_type": "stream",
          "name": "stdout",
          "text": [
            "None\n"
          ]
        },
        {
          "output_type": "execute_result",
          "data": {
            "text/plain": [
              "NoneType"
            ]
          },
          "metadata": {},
          "execution_count": 9
        }
      ]
    },
    {
      "cell_type": "code",
      "source": [
        "flag=None\n",
        "if flag==None:\n",
        "  print(\"尚未定义flag\")"
      ],
      "metadata": {
        "colab": {
          "base_uri": "https://localhost:8080/"
        },
        "id": "q41UZbkCwAm0",
        "outputId": "52d8b112-7bb6-487e-cbde-3bf8ee7f0213"
      },
      "execution_count": 11,
      "outputs": [
        {
          "output_type": "stream",
          "name": "stdout",
          "text": [
            "尚未定义flag\n"
          ]
        }
      ]
    },
    {
      "cell_type": "code",
      "source": [
        "age=int(input('Please Input Your Age '))\n",
        "if((age)<20):\n",
        "  print(\"Your age is not enough\")\n",
        "  print(\"You must be 20 years old to buy tobcaco and alcohol\")\n",
        "else:\n",
        "  print(\"Welcome to buy tobacco and alcohol\")\n"
      ],
      "metadata": {
        "colab": {
          "base_uri": "https://localhost:8080/"
        },
        "id": "ECv55njvwWC8",
        "outputId": "29c62473-240f-4223-90f0-c186b58046b1"
      },
      "execution_count": 40,
      "outputs": [
        {
          "output_type": "stream",
          "name": "stdout",
          "text": [
            "Please Input Your Age 18\n",
            "Your age is not enough\n",
            "You must be 20 years old to buy tobcaco and alcohol\n"
          ]
        }
      ]
    },
    {
      "cell_type": "code",
      "source": [
        "age=int(input('Please Input Your Age '))\n",
        "if((age)<20):\n",
        "  print(\"Your age is not enough\")\n",
        "  print(\"You must be 20 years old to buy tobcaco and alcohol\")\n",
        "else:\n",
        "  print(\"Welcome to buy tobacco and alcohol\")\n"
      ],
      "metadata": {
        "colab": {
          "base_uri": "https://localhost:8080/"
        },
        "id": "YtlEr0SUw8_0",
        "outputId": "f891c5c7-124b-4a0f-c484-6a4fbdeae0f8"
      },
      "execution_count": 39,
      "outputs": [
        {
          "output_type": "stream",
          "name": "stdout",
          "text": [
            "Please Input Your Age 23\n",
            "Welcome to buy tobacco and alcohol\n"
          ]
        }
      ]
    },
    {
      "cell_type": "code",
      "source": [
        "print(\"Final Score Calculation\")\n",
        "score=input(\"Please Input Your Score \") \n",
        "sc = int(score)\n",
        "if(sc>=90):\n",
        "  print(\"A\")\n",
        "elif(sc>=80):\n",
        "  print(\"B\")\n",
        "elif(sc>70):\n",
        "  print(\"C\")\n",
        "elif(sc>=60):\n",
        "  print(\"D\")\n",
        "else:\n",
        "  print(\"F\")  "
      ],
      "metadata": {
        "colab": {
          "base_uri": "https://localhost:8080/"
        },
        "id": "Ju7JMHKfzy3e",
        "outputId": "c8505f42-f876-4d75-d0b4-6f52114807c1"
      },
      "execution_count": 36,
      "outputs": [
        {
          "output_type": "stream",
          "name": "stdout",
          "text": [
            "Final Score Calculation\n",
            "Please Input Your Score 91\n",
            "A\n"
          ]
        }
      ]
    },
    {
      "cell_type": "code",
      "source": [
        "print(\"Final Score Calculation\")\n",
        "score=input(\"Please Input Your Score \")\n",
        "sc = int(score)\n",
        "if(sc>=90):\n",
        "  print(\"A\")\n",
        "elif(sc>=80):\n",
        "  print(\"B\")\n",
        "elif(sc>70):\n",
        "  print(\"C\")\n",
        "elif(sc>=60):\n",
        "  print(\"D\")\n",
        "else:\n",
        "  print(\"F\")"
      ],
      "metadata": {
        "colab": {
          "base_uri": "https://localhost:8080/"
        },
        "id": "bRgIRMcp1avl",
        "outputId": "c53f7974-ca32-4450-e074-c025e578c954"
      },
      "execution_count": 37,
      "outputs": [
        {
          "output_type": "stream",
          "name": "stdout",
          "text": [
            "Final Score Calculation\n",
            "Please Input Your Score 49\n",
            "F\n"
          ]
        }
      ]
    },
    {
      "cell_type": "code",
      "source": [
        "print(\"判斷輸入年份是否閏年\")\n",
        "year=int(input(\"請輸入年份:\"))\n",
        "rem4=year%4\n",
        "rem100=year%100\n",
        "rem400=year%400\n",
        "if rem4==0:\n",
        "  if rem100 !=0 or rem400==0:\n",
        "    print(\"是閏年:\",year)\n",
        "  else:\n",
        "    print(\"是平年:\",year)\n",
        "else:\n",
        "    print(\"是平年:\",year)"
      ],
      "metadata": {
        "colab": {
          "base_uri": "https://localhost:8080/"
        },
        "id": "ZHTcXdMr2RD2",
        "outputId": "cd37fffe-f59c-448a-f35d-f83313670db7"
      },
      "execution_count": 41,
      "outputs": [
        {
          "output_type": "stream",
          "name": "stdout",
          "text": [
            "判斷輸入年份是否閏年\n",
            "請輸入年份:2024\n",
            "是閏年: 2024\n"
          ]
        }
      ]
    }
  ]
}