{
  "nbformat": 4,
  "nbformat_minor": 0,
  "metadata": {
    "colab": {
      "provenance": [],
      "authorship_tag": "ABX9TyOCSOGmIpNTaOsj1eZITE6u",
      "include_colab_link": true
    },
    "kernelspec": {
      "name": "python3",
      "display_name": "Python 3"
    },
    "language_info": {
      "name": "python"
    }
  },
  "cells": [
    {
      "cell_type": "markdown",
      "metadata": {
        "id": "view-in-github",
        "colab_type": "text"
      },
      "source": [
        "<a href=\"https://colab.research.google.com/github/Stanson88/Introduction-to-Computers-/blob/main/0526.ipynb\" target=\"_parent\"><img src=\"https://colab.research.google.com/assets/colab-badge.svg\" alt=\"Open In Colab\"/></a>"
      ]
    },
    {
      "cell_type": "code",
      "source": [
        "num = int(input(' 請輸入一個正整數: '))\n",
        "for i in range(1, num+1):\n",
        "      print(i, end=' ')"
      ],
      "metadata": {
        "colab": {
          "base_uri": "https://localhost:8080/"
        },
        "id": "hOdc1I0pFS3D",
        "outputId": "e430aed0-49fc-40f5-b85b-47d886b307ba"
      },
      "execution_count": 5,
      "outputs": [
        {
          "output_type": "stream",
          "name": "stdout",
          "text": [
            " 請輸入一個正整數: 13\n",
            "1 2 3 4 5 6 7 8 9 10 11 12 13 "
          ]
        }
      ]
    },
    {
      "cell_type": "code",
      "source": [
        "x = 42\n",
        "y = 24\n",
        "print('這是兩個整數: %d 和 %d' % (x,y))"
      ],
      "metadata": {
        "colab": {
          "base_uri": "https://localhost:8080/"
        },
        "id": "V2ray7eHFuLR",
        "outputId": "179e18f7-8a5a-465e-fe2d-fbbba710b5d7"
      },
      "execution_count": 7,
      "outputs": [
        {
          "output_type": "stream",
          "name": "stdout",
          "text": [
            "這是兩個整數: 42 和 24\n"
          ]
        }
      ]
    },
    {
      "cell_type": "code",
      "source": [
        "n = int(input('請輸入一個整數: '))\n",
        "total = 0\n",
        "for i in range(1, n+1):\n",
        "      total += i\n",
        "      p_sum = sum(range(1, i+1))\n",
        "      print('1到%d的總和為: %d' % (i, p_sum))"
      ],
      "metadata": {
        "colab": {
          "base_uri": "https://localhost:8080/"
        },
        "id": "ieMfp_xLGh4q",
        "outputId": "9b31b55a-706d-4efb-8b85-ddc4b8d463e9"
      },
      "execution_count": 13,
      "outputs": [
        {
          "output_type": "stream",
          "name": "stdout",
          "text": [
            "請輸入一個整數: 8\n",
            "1到1的總和為: 1\n",
            "1到2的總和為: 3\n",
            "1到3的總和為: 6\n",
            "1到4的總和為: 10\n",
            "1到5的總和為: 15\n",
            "1到6的總和為: 21\n",
            "1到7的總和為: 28\n",
            "1到8的總和為: 36\n"
          ]
        }
      ]
    },
    {
      "cell_type": "code",
      "source": [
        "a = input('請輸入字串: ')\n",
        "for i in range(len(a)):\n",
        "    if(i % 2 != 0):\n",
        "      print(a[i].upper(),end='')\n",
        "    else :\n",
        "      print(a[i].lower(),end='')"
      ],
      "metadata": {
        "colab": {
          "base_uri": "https://localhost:8080/"
        },
        "id": "nDurM64nHxBv",
        "outputId": "4c9623b5-ff8b-4589-ea74-7b614e928e29"
      },
      "execution_count": 15,
      "outputs": [
        {
          "output_type": "stream",
          "name": "stdout",
          "text": [
            "請輸入字串: panda\n",
            "pAnDa"
          ]
        }
      ]
    },
    {
      "cell_type": "code",
      "source": [
        "n = int(input('請輸入整數:'))\n",
        "for i in range(1,n+1):\n",
        "      for j in range(i):\n",
        "            print('*', end= ' ')\n",
        "      print()"
      ],
      "metadata": {
        "colab": {
          "base_uri": "https://localhost:8080/"
        },
        "id": "nGtfUDgGJ7Bu",
        "outputId": "b7a4388a-073c-4b32-cec6-1cd18e9d269c"
      },
      "execution_count": 16,
      "outputs": [
        {
          "output_type": "stream",
          "name": "stdout",
          "text": [
            "請輸入整數:5\n",
            "* \n",
            "* * \n",
            "* * * \n",
            "* * * * \n",
            "* * * * * \n"
          ]
        }
      ]
    },
    {
      "cell_type": "code",
      "source": [
        "n = int(input('請輸入整數:'))\n",
        "for i in range(1,n+1):\n",
        "      for j in range(i):\n",
        "            print(j+1, end= ' ')\n",
        "      print()"
      ],
      "metadata": {
        "colab": {
          "base_uri": "https://localhost:8080/"
        },
        "id": "CZeG1D0_LSGl",
        "outputId": "ab4095a8-24cf-4bc8-eb2b-8d4835f94dba"
      },
      "execution_count": 18,
      "outputs": [
        {
          "output_type": "stream",
          "name": "stdout",
          "text": [
            "請輸入整數:5\n",
            "1 \n",
            "1 2 \n",
            "1 2 3 \n",
            "1 2 3 4 \n",
            "1 2 3 4 5 \n"
          ]
        }
      ]
    }
  ]
}